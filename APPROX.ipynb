{
 "cells": [
  {
   "cell_type": "code",
   "execution_count": 30,
   "id": "b84a2399-341e-4d1a-a7fb-f74b497cf3c1",
   "metadata": {},
   "outputs": [],
   "source": [
    "PNUMBER = 115792089237316195423570985008687907853269984665640564039457584007908834671663\n",
    "N = 0xFFFFFFFFFFFFFFFFFFFFFFFFFFFFFFFEBAAEDCE6AF48A03BBFD25E8CD0364141  # Number of points in the field\n",
    "Gx = 55066263022277343669578718895168534326250603453777594175500187360389116729240\n",
    "Gy = 32670510020758816978083085130507043184471273380659243275938904335757337482424\n",
    "GPOINT = (Gx, Gy)  # This is our generator point. Trillions of dif ones possible\n",
    "\n",
    "\n",
    "def modinv(a: int, PNUMBER):\n",
    "    # НАИБОЛЬШИЙ ОБЩИЙ ДЕЛИТЕЛЬ: Расширенный алгоритм Евклида / \"деление\" на эллиптических кривых\n",
    "    lm, hm = 1, 0\n",
    "    remainder = a % PNUMBER\n",
    "    high = PNUMBER\n",
    "    while remainder > 1:\n",
    "        ratio = high // remainder\n",
    "        nm = hm - lm * ratio\n",
    "        new = high - remainder * ratio\n",
    "        lm, remainder, hm, high = nm, new, lm, remainder\n",
    "    return lm % PNUMBER\n",
    "\n",
    "\n",
    "def ECadd(q, GPOINT, PNUMBER):  # Not true addition, invented for EC. Could have been called anything.\n",
    "    LamAdd = ((GPOINT[1] - q[1]) * modinv(GPOINT[0] - q[0], PNUMBER)) % PNUMBER\n",
    "    x = (LamAdd * LamAdd - q[0] - GPOINT[0]) % PNUMBER\n",
    "    y = (LamAdd * (q[0] - x) - q[1]) % PNUMBER\n",
    "    return x, y\n",
    "\n",
    "\n",
    "def ECdouble(q, PNUMBER):  # This is called point doubling, also invented for EC.\n",
    "    Lam = ((3 * q[0] * q[0]) * modinv(2 * q[1], PNUMBER)) % PNUMBER\n",
    "    x = (Lam * Lam - 2 * q[0]) % PNUMBER\n",
    "    # y = (Lam * (q[0] - x) - q[1]) % PNUMBER\n",
    "    y = (x**3 + 7)**0.5 % PNUMBER\n",
    "    return x, y\n",
    "\n",
    "def ECdevide(q, prv_hex: int):\n",
    "    if prv_hex == 0 or prv_hex >= N:\n",
    "        raise Exception(\"Invalid Scalar/Private Key\")\n",
    "    prv_bin = str(bin(prv_hex))[2:]  # двоичная строка без начала 0b\n",
    "    Q = GPOINT  # это кортеж из двух целых чисел точки генерации кривой\n",
    "    for i in range(1, len(prv_bin)):\n",
    "        Q = ECdouble(Q, PNUMBER)\n",
    "        if prv_bin[i] == \"1\":\n",
    "            Q = ECadd(GPOINT, Q, PNUMBER)\n",
    "    return Q\n",
    "\n",
    "def EccMultiply(prv_hex: int):  # Double & add. Not true multiplication\n",
    "    if prv_hex == 0 or prv_hex >= N:\n",
    "        raise Exception(\"Invalid Scalar/Private Key\")\n",
    "    prv_bin = str(bin(prv_hex))[2:]  # двоичная строка без начала 0b\n",
    "    Q = GPOINT  # это кортеж из двух целых чисел точки генерации кривой\n",
    "    for i in range(1, 5):\n",
    "        Q = ECdouble(Q, PNUMBER)\n",
    "        if prv_bin[i] == \"1\":\n",
    "            Q = ECadd(GPOINT, Q, PNUMBER)\n",
    "    return Q\n",
    "\n",
    "\n",
    "\n",
    "def private_2_public(hex_private_key: hex):\n",
    "    public_key = EccMultiply(hex_private_key)\n",
    "    return hex(public_key[0])[2:], hex(public_key[1])[2:]"
   ]
  },
  {
   "cell_type": "code",
   "execution_count": 60,
   "id": "081abb78-ebc9-4528-92e4-ba1eb1276d50",
   "metadata": {},
   "outputs": [],
   "source": [
    "# Вариант без конечных полей, упрощенная версия"
   ]
  },
  {
   "cell_type": "code",
   "execution_count": 61,
   "id": "3063142c-2015-4a9e-a439-69148b17ab54",
   "metadata": {},
   "outputs": [],
   "source": [
    "def add(Ax, Ay, Bx, By, times=1):\n",
    "    for i in range(times):\n",
    "        slope = (By - Ay) / (Bx - Ax)\n",
    "        Sx = slope**2 - Ax - Bx\n",
    "        Sy = slope * (Ax - Sx) - Ay\n",
    "        Ax, Ay = Sx, Sy\n",
    "    return Sx, Sy\n",
    "\n",
    "def double(Ax, Ay, times=1):\n",
    "    for i in range(times):\n",
    "#         slope = (3 * Dx**2) / (2 * (Dx**3 + 7)**0.5)\n",
    "        slope = (3 * Ax**2) / (2 * Ay)\n",
    "        Dx = slope**2 - Ax - Ax\n",
    "        Dy = slope * (Ax - Dx) - Ay\n",
    "        Ax, Ay = Dx, Dy\n",
    "    return Dx, Dy\n",
    "\n",
    "def subtract(Ax, Ay, Bx, By, times=1):\n",
    "    By = -1 * By\n",
    "    for i in range(times):\n",
    "        slope = (By - Ay) / (Bx - Ax)\n",
    "        Sx = slope**2 - Ax - Bx\n",
    "        Sy = slope * (Ax - Sx) - Ay\n",
    "        Ax, Ay = Sx, Sy\n",
    "    return Sx, Sy\n",
    "\n",
    "def ECdevide(Ax, Ay, times=1):\n",
    "    for i in range(times):\n",
    "#         slope = (3 * Dx**2) / (2 * (Dx**3 + 7)**0.5)\n",
    "        slope = (3 * Ax**2) / (2 * Ay)\n",
    "        Dx = 4*Ax\n",
    "        Dy = (Dx**3 + 7)**0.5\n",
    "        Ax, Ay = Dx, Dy\n",
    "    return Dx, Dy\n",
    "\n",
    "def mult(Ax, Ay, prv_hex):\n",
    "    Q = (Ax, Ay)\n",
    "    prv_bin = str(bin(prv_hex))[2:]  # двоичная строка без начала 0b\n",
    "    for i in range(1, len(prv_bin)):\n",
    "        Q = double(Q[0], Q[1])\n",
    "        if prv_bin[i] == \"1\":\n",
    "            Q = add(Q[0], Q[1], Ax, Ay)\n",
    "    return Q"
   ]
  },
  {
   "cell_type": "code",
   "execution_count": 62,
   "id": "b33adf2b-f38b-4a1a-b8fe-4b077dbddf2c",
   "metadata": {},
   "outputs": [],
   "source": [
    "Ax, Ay = 32.2,182.74\n",
    "count = 1"
   ]
  },
  {
   "cell_type": "code",
   "execution_count": 63,
   "id": "305076ea-2cd7-4f0e-a57d-008d252b6580",
   "metadata": {},
   "outputs": [
    {
     "data": {
      "text/plain": [
       "(8.033382057989513, 22.93677695354728)"
      ]
     },
     "execution_count": 63,
     "metadata": {},
     "output_type": "execute_result"
    }
   ],
   "source": [
    "Cx, Cy = double(Ax, Ay, count)\n",
    "Cx, Cy"
   ]
  },
  {
   "cell_type": "code",
   "execution_count": 64,
   "id": "34b1ac9f-d9d2-4dc2-9716-d0a5837a6474",
   "metadata": {},
   "outputs": [
    {
     "data": {
      "text/plain": [
       "(32.13352823195805, 182.17275528759333)"
      ]
     },
     "execution_count": 64,
     "metadata": {},
     "output_type": "execute_result"
    }
   ],
   "source": [
    "# в результате деления координаты Cx, Cy приблизительно равны исходным Ax, Ay\n",
    "ECdevide(Cx, Cy, count)"
   ]
  },
  {
   "cell_type": "code",
   "execution_count": 65,
   "id": "f87ea009-fc64-4395-a29b-1e9e2450efbc",
   "metadata": {},
   "outputs": [],
   "source": [
    "Ax, Ay = 8.033382057989513, 22.93677695354728"
   ]
  },
  {
   "cell_type": "code",
   "execution_count": 66,
   "id": "9cc4d89e-7df6-434e-afa1-f2f46882b96b",
   "metadata": {},
   "outputs": [
    {
     "data": {
      "text/plain": [
       "(1.7451840783093964, 3.6020619610941935)"
      ]
     },
     "execution_count": 66,
     "metadata": {},
     "output_type": "execute_result"
    }
   ],
   "source": [
    "Cx, Cy = double(Ax, Ay, count)\n",
    "Cx, Cy"
   ]
  },
  {
   "cell_type": "code",
   "execution_count": 67,
   "id": "ac134517-7dc6-4025-9950-3fbada98be3d",
   "metadata": {},
   "outputs": [
    {
     "data": {
      "text/plain": [
       "(6.9807363132375855, 18.632660136962517)"
      ]
     },
     "execution_count": 67,
     "metadata": {},
     "output_type": "execute_result"
    }
   ],
   "source": [
    "# при следующей итерации координаты Cx, Cy отличаются значительнее от исходных Ax, Ay\n",
    "ECdevide(Cx, Cy, count)"
   ]
  },
  {
   "cell_type": "code",
   "execution_count": 68,
   "id": "6d864ea5-51b6-47e0-8309-b3d030cf8e3d",
   "metadata": {},
   "outputs": [],
   "source": [
    "Ax, Ay = 1.7451840783093964, 3.6020619610941935"
   ]
  },
  {
   "cell_type": "code",
   "execution_count": 69,
   "id": "c638a915-e58e-4163-8fdb-b270b56f06c3",
   "metadata": {},
   "outputs": [
    {
     "data": {
      "text/plain": [
       "(-1.8817790304392974, 0.9980214068383884)"
      ]
     },
     "execution_count": 69,
     "metadata": {},
     "output_type": "execute_result"
    }
   ],
   "source": [
    "Cx, Cy = double(Ax, Ay, count)\n",
    "Cx, Cy"
   ]
  },
  {
   "cell_type": "code",
   "execution_count": 70,
   "id": "4dc04366-01a3-4010-8eb6-69dbd1bdf1c6",
   "metadata": {},
   "outputs": [
    {
     "data": {
      "text/plain": [
       "(-7.52711612175719, (1.254093647539275e-15+20.48090352928573j))"
      ]
     },
     "execution_count": 70,
     "metadata": {},
     "output_type": "execute_result"
    }
   ],
   "source": [
    "# на третьей итерации координаты Cx, Cy \"совсем далеки\" от исходных Ax, Ay, тк мы еще дальше от интервала (30, +inf)\n",
    "ECdevide(Cx, Cy, count)"
   ]
  },
  {
   "cell_type": "code",
   "execution_count": null,
   "id": "c5f73553-8510-43bd-80e1-d6350e6ecd9b",
   "metadata": {},
   "outputs": [],
   "source": []
  }
 ],
 "metadata": {
  "kernelspec": {
   "display_name": "Python 3 (ipykernel)",
   "language": "python",
   "name": "python3"
  },
  "language_info": {
   "codemirror_mode": {
    "name": "ipython",
    "version": 3
   },
   "file_extension": ".py",
   "mimetype": "text/x-python",
   "name": "python",
   "nbconvert_exporter": "python",
   "pygments_lexer": "ipython3",
   "version": "3.10.11"
  }
 },
 "nbformat": 4,
 "nbformat_minor": 5
}
